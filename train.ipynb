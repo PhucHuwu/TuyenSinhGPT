{
 "cells": [
  {
   "cell_type": "code",
   "execution_count": 20,
   "metadata": {},
   "outputs": [
    {
     "name": "stdout",
     "output_type": "stream",
     "text": [
      "            Nhóm ngành    Ngành            Trường đào tạo    Mã ngành  \\\n",
      "0  Kế toán - Kiểm toán  Kế toán  Đại Học Kinh Tế Quốc Dân     7340301   \n",
      "1  Kế toán - Kiểm toán  Kế toán  Đại Học Kinh Tế Quốc Dân        EP04   \n",
      "2  Kế toán - Kiểm toán  Kế toán  Đại Học Bách Khoa Hà Nội         EM4   \n",
      "3  Kế toán - Kiểm toán  Kế toán        Học Viện Tài chính     7340301   \n",
      "4  Kế toán - Kiểm toán  Kế toán        Học Viện Tài chính  7340301C21   \n",
      "\n",
      "                                        Tên ngành          Tổ hợp môn  \\\n",
      "0                                         Kế toán  A00; A01; D01; D07   \n",
      "1  Kế toán tích hợp chứng chỉ quốc tế UCAEW CFAB)  A00; A01; D01; D07   \n",
      "2                                         Kế toán       A00; A01; D01   \n",
      "3                                         Kế toán  A00; A01; D01; D07   \n",
      "4     Kế toán doanh nghiệp (theo định hướng ACCA)       A01; D01; D07   \n",
      "\n",
      "   Điểm chuẩn 2024                                Ghi chú  \n",
      "0            27.29                                    NaN  \n",
      "1            27.20                                    NaN  \n",
      "2            25.80                                    NaN  \n",
      "3            26.45                                    NaN  \n",
      "4            34.35  CT định hướng CCQT, Tiếng Anh hệ số 2  \n",
      "<class 'pandas.core.frame.DataFrame'>\n",
      "RangeIndex: 5065 entries, 0 to 5064\n",
      "Data columns (total 8 columns):\n",
      " #   Column           Non-Null Count  Dtype  \n",
      "---  ------           --------------  -----  \n",
      " 0   Nhóm ngành       5065 non-null   object \n",
      " 1   Ngành            5065 non-null   object \n",
      " 2   Trường đào tạo   5065 non-null   object \n",
      " 3   Mã ngành         5065 non-null   object \n",
      " 4   Tên ngành        5065 non-null   object \n",
      " 5   Tổ hợp môn       5028 non-null   object \n",
      " 6   Điểm chuẩn 2024  5065 non-null   float64\n",
      " 7   Ghi chú          639 non-null    object \n",
      "dtypes: float64(1), object(7)\n",
      "memory usage: 316.7+ KB\n",
      "None\n"
     ]
    }
   ],
   "source": [
    "import pandas as pd\n",
    "\n",
    "file_path = \"data_diem_chuan_nam_2024.csv\"\n",
    "df = pd.read_csv(file_path)\n",
    "\n",
    "print(df.head())\n",
    "\n",
    "print(df.info())"
   ]
  },
  {
   "cell_type": "code",
   "execution_count": 21,
   "metadata": {},
   "outputs": [
    {
     "name": "stdout",
     "output_type": "stream",
     "text": [
      "Nhóm ngành            0\n",
      "Ngành                 0\n",
      "Trường đào tạo        0\n",
      "Mã ngành              0\n",
      "Tên ngành             0\n",
      "Tổ hợp môn           37\n",
      "Điểm chuẩn 2024       0\n",
      "Ghi chú            4426\n",
      "dtype: int64\n"
     ]
    }
   ],
   "source": [
    "print(df.isnull().sum())"
   ]
  },
  {
   "cell_type": "code",
   "execution_count": 22,
   "metadata": {},
   "outputs": [
    {
     "name": "stderr",
     "output_type": "stream",
     "text": [
      "C:\\Users\\PC\\AppData\\Local\\Temp\\ipykernel_2668\\610147126.py:1: FutureWarning: A value is trying to be set on a copy of a DataFrame or Series through chained assignment using an inplace method.\n",
      "The behavior will change in pandas 3.0. This inplace method will never work because the intermediate object on which we are setting values always behaves as a copy.\n",
      "\n",
      "For example, when doing 'df[col].method(value, inplace=True)', try using 'df.method({col: value}, inplace=True)' or df[col] = df[col].method(value) instead, to perform the operation inplace on the original object.\n",
      "\n",
      "\n",
      "  df[\"Tổ hợp môn\"].fillna(\"Không rõ\", inplace=True)\n"
     ]
    }
   ],
   "source": [
    "df[\"Tổ hợp môn\"].fillna(\"Không rõ\", inplace=True)"
   ]
  },
  {
   "cell_type": "code",
   "execution_count": 23,
   "metadata": {},
   "outputs": [
    {
     "name": "stdout",
     "output_type": "stream",
     "text": [
      "Nhóm ngành            0\n",
      "Ngành                 0\n",
      "Trường đào tạo        0\n",
      "Mã ngành              0\n",
      "Tên ngành             0\n",
      "Tổ hợp môn            0\n",
      "Điểm chuẩn 2024       0\n",
      "Ghi chú            4426\n",
      "dtype: int64\n",
      "            Nhóm ngành    Ngành            Trường đào tạo    Mã ngành  \\\n",
      "0  Kế toán - Kiểm toán  Kế toán  Đại Học Kinh Tế Quốc Dân     7340301   \n",
      "1  Kế toán - Kiểm toán  Kế toán  Đại Học Kinh Tế Quốc Dân        EP04   \n",
      "2  Kế toán - Kiểm toán  Kế toán  Đại Học Bách Khoa Hà Nội         EM4   \n",
      "3  Kế toán - Kiểm toán  Kế toán        Học Viện Tài chính     7340301   \n",
      "4  Kế toán - Kiểm toán  Kế toán        Học Viện Tài chính  7340301C21   \n",
      "\n",
      "                                        Tên ngành          Tổ hợp môn  \\\n",
      "0                                         Kế toán  A00; A01; D01; D07   \n",
      "1  Kế toán tích hợp chứng chỉ quốc tế UCAEW CFAB)  A00; A01; D01; D07   \n",
      "2                                         Kế toán       A00; A01; D01   \n",
      "3                                         Kế toán  A00; A01; D01; D07   \n",
      "4     Kế toán doanh nghiệp (theo định hướng ACCA)       A01; D01; D07   \n",
      "\n",
      "   Điểm chuẩn 2024                                Ghi chú  \n",
      "0            27.29                                    NaN  \n",
      "1            27.20                                    NaN  \n",
      "2            25.80                                    NaN  \n",
      "3            26.45                                    NaN  \n",
      "4            34.35  CT định hướng CCQT, Tiếng Anh hệ số 2  \n"
     ]
    }
   ],
   "source": [
    "print(df.isnull().sum())\n",
    "print(df.head())"
   ]
  },
  {
   "cell_type": "code",
   "execution_count": 24,
   "metadata": {},
   "outputs": [
    {
     "name": "stdout",
     "output_type": "stream",
     "text": [
      "Dữ liệu đã lưu vào data_diem_chuan_cleaned.csv\n"
     ]
    }
   ],
   "source": [
    "cleaned_file_path = \"data_diem_chuan_cleaned.csv\"\n",
    "df.to_csv(cleaned_file_path, index=False)\n",
    "print(f\"Dữ liệu đã lưu vào {cleaned_file_path}\")"
   ]
  },
  {
   "cell_type": "code",
   "execution_count": 25,
   "metadata": {},
   "outputs": [
    {
     "name": "stdout",
     "output_type": "stream",
     "text": [
      "{'prompt': 'Ngành Kế toán tại Đại Học Kinh Tế Quốc Dân lấy bao nhiêu điểm năm 2024?', 'completion': 'Năm 2024, ngành Kế toán tại Đại Học Kinh Tế Quốc Dân có điểm chuẩn là 27.29.'}\n",
      "{'prompt': 'Em muốn học ngành Kế toán thì cần thi tổ hợp môn nào?', 'completion': 'Ngành Kế toán xét tuyển theo các tổ hợp môn: A00; A01; D01; D07.'}\n",
      "{'prompt': 'Nhóm ngành Kế toán - Kiểm toán bao gồm những ngành nào?', 'completion': 'Nhóm ngành Kế toán - Kiểm toán bao gồm ngành Kế toán và nhiều ngành khác.'}\n",
      "{'prompt': 'Mã ngành của Kế toán tại Đại Học Kinh Tế Quốc Dân là gì?', 'completion': 'Mã ngành của Kế toán tại Đại Học Kinh Tế Quốc Dân là 7340301.'}\n",
      "{'prompt': 'Ngành Kế toán tích hợp chứng chỉ quốc tế UCAEW CFAB) tại Đại Học Kinh Tế Quốc Dân lấy bao nhiêu điểm năm 2024?', 'completion': 'Năm 2024, ngành Kế toán tích hợp chứng chỉ quốc tế UCAEW CFAB) tại Đại Học Kinh Tế Quốc Dân có điểm chuẩn là 27.2.'}\n"
     ]
    }
   ],
   "source": [
    "import json\n",
    "\n",
    "train_data_path = \"train_data.jsonl\"\n",
    "with open(train_data_path, \"r\", encoding=\"utf-8\") as f:\n",
    "    for i, line in enumerate(f):\n",
    "        if i >= 5:\n",
    "            break\n",
    "        print(json.loads(line))"
   ]
  },
  {
   "cell_type": "code",
   "execution_count": 26,
   "metadata": {},
   "outputs": [],
   "source": [
    "import torch\n",
    "from transformers import AutoModelForCausalLM, AutoTokenizer, TrainingArguments, Trainer\n",
    "from peft import LoraConfig, get_peft_model, TaskType\n",
    "from datasets import Dataset\n",
    "import json\n",
    "\n",
    "torch.cuda.empty_cache()\n",
    "\n",
    "model_name = \"VietAI/gpt-neo-1.3B-vietnamese-news\"\n",
    "tokenizer = AutoTokenizer.from_pretrained(model_name)\n",
    "tokenizer.pad_token = tokenizer.eos_token\n",
    "\n",
    "train_data_path = \"train_data.jsonl\"\n",
    "data_list = []\n",
    "\n",
    "with open(train_data_path, \"r\", encoding=\"utf-8\") as f:\n",
    "    for line in f:\n",
    "        item = json.loads(line)\n",
    "        prompt = item[\"prompt\"]\n",
    "        completion = item[\"completion\"]\n",
    "        data_list.append({\"text\": f\"Người dùng: {prompt}\\nChatbot: {completion}\"})\n",
    "\n",
    "raw_dataset = Dataset.from_list(data_list)\n",
    "\n",
    "\n",
    "def preprocess_function(examples):\n",
    "    inputs = tokenizer(\n",
    "        examples[\"text\"],\n",
    "        padding=\"max_length\",\n",
    "        truncation=True,\n",
    "        max_length=128,\n",
    "        return_tensors=None\n",
    "    )\n",
    "\n",
    "    inputs[\"labels\"] = inputs[\"input_ids\"].copy()\n",
    "    return inputs"
   ]
  },
  {
   "cell_type": "code",
   "execution_count": 27,
   "metadata": {},
   "outputs": [
    {
     "name": "stderr",
     "output_type": "stream",
     "text": [
      "Map: 100%|██████████| 276712/276712 [00:23<00:00, 11724.93 examples/s]\n"
     ]
    }
   ],
   "source": [
    "tokenized_dataset = raw_dataset.map(\n",
    "    preprocess_function,\n",
    "    batched=True,\n",
    "    remove_columns=[\"text\"]\n",
    ")"
   ]
  },
  {
   "cell_type": "code",
   "execution_count": 28,
   "metadata": {},
   "outputs": [
    {
     "name": "stdout",
     "output_type": "stream",
     "text": [
      "trainable params: 3,932,160 || all params: 1,339,461,632 || trainable%: 0.2936\n"
     ]
    },
    {
     "name": "stderr",
     "output_type": "stream",
     "text": [
      "C:\\Users\\PC\\AppData\\Local\\Temp\\ipykernel_2668\\1468519940.py:33: FutureWarning: `tokenizer` is deprecated and will be removed in version 5.0.0 for `Trainer.__init__`. Use `processing_class` instead.\n",
      "  trainer = Trainer(\n",
      "No label_names provided for model class `PeftModelForCausalLM`. Since `PeftModel` hides base models input arguments, if label_names is not given, label_names can't be set automatically within `Trainer`. Note that empty label_names list will be used instead.\n"
     ]
    },
    {
     "data": {
      "text/html": [
       "\n",
       "    <div>\n",
       "      \n",
       "      <progress value='100' max='100' style='width:300px; height:20px; vertical-align: middle;'></progress>\n",
       "      [100/100 01:50, Epoch 0/1]\n",
       "    </div>\n",
       "    <table border=\"1\" class=\"dataframe\">\n",
       "  <thead>\n",
       " <tr style=\"text-align: left;\">\n",
       "      <th>Step</th>\n",
       "      <th>Training Loss</th>\n",
       "    </tr>\n",
       "  </thead>\n",
       "  <tbody>\n",
       "    <tr>\n",
       "      <td>10</td>\n",
       "      <td>2.717300</td>\n",
       "    </tr>\n",
       "    <tr>\n",
       "      <td>20</td>\n",
       "      <td>1.268700</td>\n",
       "    </tr>\n",
       "    <tr>\n",
       "      <td>30</td>\n",
       "      <td>0.884300</td>\n",
       "    </tr>\n",
       "    <tr>\n",
       "      <td>40</td>\n",
       "      <td>0.652200</td>\n",
       "    </tr>\n",
       "    <tr>\n",
       "      <td>50</td>\n",
       "      <td>0.557000</td>\n",
       "    </tr>\n",
       "    <tr>\n",
       "      <td>60</td>\n",
       "      <td>0.487600</td>\n",
       "    </tr>\n",
       "    <tr>\n",
       "      <td>70</td>\n",
       "      <td>0.430800</td>\n",
       "    </tr>\n",
       "    <tr>\n",
       "      <td>80</td>\n",
       "      <td>0.426000</td>\n",
       "    </tr>\n",
       "    <tr>\n",
       "      <td>90</td>\n",
       "      <td>0.448700</td>\n",
       "    </tr>\n",
       "    <tr>\n",
       "      <td>100</td>\n",
       "      <td>0.429300</td>\n",
       "    </tr>\n",
       "  </tbody>\n",
       "</table><p>"
      ],
      "text/plain": [
       "<IPython.core.display.HTML object>"
      ]
     },
     "metadata": {},
     "output_type": "display_data"
    },
    {
     "name": "stderr",
     "output_type": "stream",
     "text": [
      "c:\\Users\\PC\\anaconda3\\envs\\orb-slam-py\\lib\\site-packages\\peft\\utils\\other.py:1094: UserWarning: Unable to fetch remote file due to the following error 401 Client Error: Unauthorized for url: https://huggingface.co/VietAI/gpt-neo-1.3B-vietnamese-news/resolve/main/config.json (Request ID: Root=1-67de8194-30f3381c5dc8395b75e6d6d6;82bcde5a-cd75-4a80-98f3-2dc22726fbef)\n",
      "\n",
      "Invalid credentials in Authorization header - silently ignoring the lookup for the file config.json in VietAI/gpt-neo-1.3B-vietnamese-news.\n",
      "  warnings.warn(\n",
      "c:\\Users\\PC\\anaconda3\\envs\\orb-slam-py\\lib\\site-packages\\peft\\utils\\save_and_load.py:227: UserWarning: Could not find a config file in VietAI/gpt-neo-1.3B-vietnamese-news - will assume that the vocabulary was not modified.\n",
      "  warnings.warn(\n",
      "c:\\Users\\PC\\anaconda3\\envs\\orb-slam-py\\lib\\site-packages\\peft\\utils\\other.py:1094: UserWarning: Unable to fetch remote file due to the following error 401 Client Error: Unauthorized for url: https://huggingface.co/VietAI/gpt-neo-1.3B-vietnamese-news/resolve/main/config.json (Request ID: Root=1-67de81ca-1b6d1be668f7a4d9574f5504;5fb52729-170b-41e8-a322-ec6ffc4927bf)\n",
      "\n",
      "Invalid credentials in Authorization header - silently ignoring the lookup for the file config.json in VietAI/gpt-neo-1.3B-vietnamese-news.\n",
      "  warnings.warn(\n",
      "c:\\Users\\PC\\anaconda3\\envs\\orb-slam-py\\lib\\site-packages\\peft\\utils\\save_and_load.py:227: UserWarning: Could not find a config file in VietAI/gpt-neo-1.3B-vietnamese-news - will assume that the vocabulary was not modified.\n",
      "  warnings.warn(\n",
      "c:\\Users\\PC\\anaconda3\\envs\\orb-slam-py\\lib\\site-packages\\peft\\utils\\other.py:1094: UserWarning: Unable to fetch remote file due to the following error 401 Client Error: Unauthorized for url: https://huggingface.co/VietAI/gpt-neo-1.3B-vietnamese-news/resolve/main/config.json (Request ID: Root=1-67de81cb-0ca501787068ef9c7715a471;b8b8dcc4-f1b3-4bfd-ad00-38845456a273)\n",
      "\n",
      "Invalid credentials in Authorization header - silently ignoring the lookup for the file config.json in VietAI/gpt-neo-1.3B-vietnamese-news.\n",
      "  warnings.warn(\n",
      "c:\\Users\\PC\\anaconda3\\envs\\orb-slam-py\\lib\\site-packages\\peft\\utils\\save_and_load.py:227: UserWarning: Could not find a config file in VietAI/gpt-neo-1.3B-vietnamese-news - will assume that the vocabulary was not modified.\n",
      "  warnings.warn(\n"
     ]
    },
    {
     "data": {
      "text/plain": [
       "('./fine_tuned_gpt2_model_final\\\\tokenizer_config.json',\n",
       " './fine_tuned_gpt2_model_final\\\\special_tokens_map.json',\n",
       " './fine_tuned_gpt2_model_final\\\\vocab.json',\n",
       " './fine_tuned_gpt2_model_final\\\\merges.txt',\n",
       " './fine_tuned_gpt2_model_final\\\\added_tokens.json',\n",
       " './fine_tuned_gpt2_model_final\\\\tokenizer.json')"
      ]
     },
     "execution_count": 28,
     "metadata": {},
     "output_type": "execute_result"
    }
   ],
   "source": [
    "model = AutoModelForCausalLM.from_pretrained(\n",
    "    model_name,\n",
    "    torch_dtype=torch.float16\n",
    ")\n",
    "\n",
    "peft_config = LoraConfig(\n",
    "    task_type=TaskType.CAUSAL_LM,\n",
    "    inference_mode=False,\n",
    "    r=8,\n",
    "    lora_alpha=16,\n",
    "    lora_dropout=0.05,\n",
    "    target_modules=[\"c_attn\", \"c_proj\", \"c_fc\"]\n",
    ")\n",
    "\n",
    "model = get_peft_model(model, peft_config)\n",
    "model.print_trainable_parameters()\n",
    "\n",
    "training_args = TrainingArguments(\n",
    "    output_dir=\"./fine_tuned_gpt2_model\",\n",
    "    per_device_train_batch_size=2,\n",
    "    gradient_accumulation_steps=4,\n",
    "    optim=\"adamw_torch\",\n",
    "    learning_rate=2e-4,\n",
    "    lr_scheduler_type=\"cosine\",\n",
    "    save_strategy=\"steps\",\n",
    "    save_steps=50,\n",
    "    logging_steps=10,\n",
    "    max_steps=100,\n",
    "    fp16=True,\n",
    "    remove_unused_columns=False,\n",
    ")\n",
    "\n",
    "trainer = Trainer(\n",
    "    model=model,\n",
    "    args=training_args,\n",
    "    train_dataset=tokenized_dataset,\n",
    "    tokenizer=tokenizer,\n",
    ")\n",
    "\n",
    "trainer.train()\n",
    "\n",
    "peft_model_id = \"./fine_tuned_gpt2_model_final\"\n",
    "trainer.model.save_pretrained(peft_model_id)\n",
    "tokenizer.save_pretrained(peft_model_id)"
   ]
  },
  {
   "cell_type": "code",
   "execution_count": 41,
   "metadata": {},
   "outputs": [
    {
     "name": "stdout",
     "output_type": "stream",
     "text": [
      "Testing model...\n",
      "Test Prompt: Tôi thích lập trình, có thể học ngành nào?\n",
      "Response: Nếu bạn quan tâm đến lập trình, ngành Công nghệ kỹ thuật điện, điện tử tại Trường Đại Học Công Nghệ TPHCM là một lựa chọn phù hợp. Điểm chuẩn: 15.0.\n"
     ]
    }
   ],
   "source": [
    "import torch\n",
    "\n",
    "device = torch.device(\"cuda\" if torch.cuda.is_available() else \"cpu\")\n",
    "model.to(device)\n",
    "\n",
    "print(\"Testing model...\")\n",
    "model.eval()\n",
    "\n",
    "\n",
    "def generate_response(prompt, model, tokenizer, max_length=150):\n",
    "    input_text = f\"Người dùng: {prompt}\"\n",
    "    input_ids = tokenizer.encode(input_text, return_tensors=\"pt\").to(device)\n",
    "\n",
    "    with torch.no_grad():\n",
    "        pad_token_id = tokenizer.eos_token_id if tokenizer.eos_token_id is not None else tokenizer.pad_token_id\n",
    "        output = model.generate(\n",
    "            input_ids,\n",
    "            max_length=max_length,\n",
    "            temperature=0.7,\n",
    "            top_p=0.9,\n",
    "            pad_token_id=pad_token_id\n",
    "        )\n",
    "\n",
    "    response = tokenizer.decode(output[0], skip_special_tokens=True)\n",
    "    if \"Chatbot:\" in response:\n",
    "        response = response.split(\"Chatbot:\")[1].strip()\n",
    "    else:\n",
    "        response = response.strip()\n",
    "    return response\n",
    "\n",
    "\n",
    "test_prompt = \"Tôi thích lập trình, có thể học ngành nào?\"\n",
    "response = generate_response(test_prompt, model, tokenizer)\n",
    "print(f\"Test Prompt: {test_prompt}\")\n",
    "print(f\"Response: {response}\")"
   ]
  }
 ],
 "metadata": {
  "kernelspec": {
   "display_name": "orb-slam-py",
   "language": "python",
   "name": "python3"
  },
  "language_info": {
   "codemirror_mode": {
    "name": "ipython",
    "version": 3
   },
   "file_extension": ".py",
   "mimetype": "text/x-python",
   "name": "python",
   "nbconvert_exporter": "python",
   "pygments_lexer": "ipython3",
   "version": "3.10.16"
  }
 },
 "nbformat": 4,
 "nbformat_minor": 2
}
